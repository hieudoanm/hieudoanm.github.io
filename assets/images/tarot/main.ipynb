{
 "cells": [
  {
   "cell_type": "code",
   "execution_count": 4,
   "metadata": {},
   "outputs": [],
   "source": [
    "import json\n",
    "import pandas\n",
    "import requests\n",
    "\n",
    "response = requests.get(\"https://tarotapi.dev/api/v1/cards\")\n",
    "\n",
    "data : dict = response.json()\n",
    "\n",
    "with open(\"./cards.json\", \"w\") as json_file:\n",
    "    json.dump(data, json_file, indent=2)\n",
    "\n",
    "cards : dict[str] = data.get(\"cards\")\n",
    "\n",
    "cards_df = pandas.DataFrame(cards)\n",
    "cards_df.to_csv(\"./cards.csv\", index=False)"
   ]
  }
 ],
 "metadata": {
  "kernelspec": {
   "display_name": "Python 3",
   "language": "python",
   "name": "python3"
  },
  "language_info": {
   "codemirror_mode": {
    "name": "ipython",
    "version": 3
   },
   "file_extension": ".py",
   "mimetype": "text/x-python",
   "name": "python",
   "nbconvert_exporter": "python",
   "pygments_lexer": "ipython3",
   "version": "3.13.2"
  }
 },
 "nbformat": 4,
 "nbformat_minor": 2
}
